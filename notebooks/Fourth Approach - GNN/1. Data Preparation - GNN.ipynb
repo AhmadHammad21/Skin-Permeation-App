{
 "cells": [
  {
   "attachments": {},
   "cell_type": "markdown",
   "metadata": {},
   "source": [
    "This notebook is about preperaring data for GNN saving the data to use it for later under \n",
    "`gnn_smiles_texpi_kpl.csv` & `gnn_smiles_kpl.csv`."
   ]
  },
  {
   "cell_type": "markdown",
   "metadata": {},
   "source": [
    "<a id=\"import-libraries\"></a>\n",
    "# 1. Import Libraries & Data"
   ]
  },
  {
   "cell_type": "code",
   "execution_count": 1,
   "metadata": {},
   "outputs": [],
   "source": [
    "import pandas as pd\n",
    "import numpy as np\n",
    "import matplotlib.pyplot as plt\n",
    "import seaborn as sns"
   ]
  },
  {
   "cell_type": "code",
   "execution_count": 2,
   "metadata": {},
   "outputs": [],
   "source": [
    "# we get original df from trial 1, but we change it to trial 3 folder\n",
    "original_df = pd.read_csv(\"../../GNN-trials/trial 1/data-original.csv\", encoding= 'unicode_escape')\n",
    "smiles = pd.read_csv(\"../../GNN-trials/trial 1/smiles.csv\", encoding= 'unicode_escape')"
   ]
  },
  {
   "cell_type": "code",
   "execution_count": 3,
   "metadata": {},
   "outputs": [
    {
     "data": {
      "text/plain": [
       "((476, 20), (476, 2))"
      ]
     },
     "execution_count": 3,
     "metadata": {},
     "output_type": "execute_result"
    }
   ],
   "source": [
    "original_df.shape, smiles.shape"
   ]
  },
  {
   "cell_type": "code",
   "execution_count": 4,
   "metadata": {},
   "outputs": [
    {
     "data": {
      "text/html": [
       "<div>\n",
       "<style scoped>\n",
       "    .dataframe tbody tr th:only-of-type {\n",
       "        vertical-align: middle;\n",
       "    }\n",
       "\n",
       "    .dataframe tbody tr th {\n",
       "        vertical-align: top;\n",
       "    }\n",
       "\n",
       "    .dataframe thead th {\n",
       "        text-align: right;\n",
       "    }\n",
       "</style>\n",
       "<table border=\"1\" class=\"dataframe\">\n",
       "  <thead>\n",
       "    <tr style=\"text-align: right;\">\n",
       "      <th></th>\n",
       "      <th>No</th>\n",
       "      <th>Compound</th>\n",
       "      <th>SMILES</th>\n",
       "      <th>CAS No</th>\n",
       "      <th>set</th>\n",
       "      <th>MWa</th>\n",
       "      <th>logKowb</th>\n",
       "      <th>Mptc</th>\n",
       "      <th>LogSaqd</th>\n",
       "      <th>LogSoce</th>\n",
       "      <th>Hdf</th>\n",
       "      <th>Hag</th>\n",
       "      <th>MVh</th>\n",
       "      <th>Texpi</th>\n",
       "      <th>Skin thicknessj</th>\n",
       "      <th>Skin Integrity testk</th>\n",
       "      <th>Skin Selection criteria</th>\n",
       "      <th>logkpl</th>\n",
       "      <th>logJmaxm</th>\n",
       "      <th>Reference</th>\n",
       "    </tr>\n",
       "  </thead>\n",
       "  <tbody>\n",
       "    <tr>\n",
       "      <th>0</th>\n",
       "      <td>80</td>\n",
       "      <td>Urea</td>\n",
       "      <td>C(=O)(N)N</td>\n",
       "      <td>57-13-6</td>\n",
       "      <td>t</td>\n",
       "      <td>60.1</td>\n",
       "      <td>-2.11</td>\n",
       "      <td>406.0</td>\n",
       "      <td>-1.85</td>\n",
       "      <td>-3.96</td>\n",
       "      <td>4</td>\n",
       "      <td>3</td>\n",
       "      <td>36.7</td>\n",
       "      <td>312</td>\n",
       "      <td>0.1</td>\n",
       "      <td>transepidermal electrical resistance</td>\n",
       "      <td>20-130 Kohmcm2</td>\n",
       "      <td>-3.55</td>\n",
       "      <td>-5.41</td>\n",
       "      <td>(Peck et al. 1995)</td>\n",
       "    </tr>\n",
       "    <tr>\n",
       "      <th>1</th>\n",
       "      <td>81</td>\n",
       "      <td>Urea</td>\n",
       "      <td>C(=O)(N)N</td>\n",
       "      <td>57-13-6</td>\n",
       "      <td>t</td>\n",
       "      <td>60.1</td>\n",
       "      <td>-2.11</td>\n",
       "      <td>406.0</td>\n",
       "      <td>-2.02</td>\n",
       "      <td>-4.13</td>\n",
       "      <td>4</td>\n",
       "      <td>3</td>\n",
       "      <td>36.7</td>\n",
       "      <td>300</td>\n",
       "      <td>0.1</td>\n",
       "      <td>transepidermal electrical resistance</td>\n",
       "      <td>20-130 Kohmcm2</td>\n",
       "      <td>-3.69</td>\n",
       "      <td>-5.71</td>\n",
       "      <td>(Peck et al. 1995)</td>\n",
       "    </tr>\n",
       "  </tbody>\n",
       "</table>\n",
       "</div>"
      ],
      "text/plain": [
       "   No Compound     SMILES   CAS No set   MWa  logKowb   Mptc  LogSaqd  \\\n",
       "0  80     Urea  C(=O)(N)N  57-13-6   t  60.1    -2.11  406.0    -1.85   \n",
       "1  81     Urea  C(=O)(N)N  57-13-6   t  60.1    -2.11  406.0    -2.02   \n",
       "\n",
       "   LogSoce  Hdf  Hag   MVh  Texpi  Skin thicknessj  \\\n",
       "0    -3.96    4    3  36.7    312              0.1   \n",
       "1    -4.13    4    3  36.7    300              0.1   \n",
       "\n",
       "                   Skin Integrity testk Skin Selection criteria  logkpl  \\\n",
       "0  transepidermal electrical resistance          20-130 Kohmcm2   -3.55   \n",
       "1  transepidermal electrical resistance          20-130 Kohmcm2   -3.69   \n",
       "\n",
       "   logJmaxm           Reference  \n",
       "0     -5.41  (Peck et al. 1995)  \n",
       "1     -5.71  (Peck et al. 1995)  "
      ]
     },
     "execution_count": 4,
     "metadata": {},
     "output_type": "execute_result"
    }
   ],
   "source": [
    "original_df.head(2)"
   ]
  },
  {
   "cell_type": "code",
   "execution_count": 5,
   "metadata": {},
   "outputs": [
    {
     "data": {
      "text/html": [
       "<div>\n",
       "<style scoped>\n",
       "    .dataframe tbody tr th:only-of-type {\n",
       "        vertical-align: middle;\n",
       "    }\n",
       "\n",
       "    .dataframe tbody tr th {\n",
       "        vertical-align: top;\n",
       "    }\n",
       "\n",
       "    .dataframe thead th {\n",
       "        text-align: right;\n",
       "    }\n",
       "</style>\n",
       "<table border=\"1\" class=\"dataframe\">\n",
       "  <thead>\n",
       "    <tr style=\"text-align: right;\">\n",
       "      <th></th>\n",
       "      <th>SMILES</th>\n",
       "      <th>Texpi</th>\n",
       "    </tr>\n",
       "  </thead>\n",
       "  <tbody>\n",
       "    <tr>\n",
       "      <th>0</th>\n",
       "      <td>C(=O)(N)N</td>\n",
       "      <td>312</td>\n",
       "    </tr>\n",
       "    <tr>\n",
       "      <th>1</th>\n",
       "      <td>C(=O)(N)N</td>\n",
       "      <td>300</td>\n",
       "    </tr>\n",
       "  </tbody>\n",
       "</table>\n",
       "</div>"
      ],
      "text/plain": [
       "      SMILES  Texpi\n",
       "0  C(=O)(N)N    312\n",
       "1  C(=O)(N)N    300"
      ]
     },
     "execution_count": 5,
     "metadata": {},
     "output_type": "execute_result"
    }
   ],
   "source": [
    "smiles.head(2)"
   ]
  },
  {
   "cell_type": "code",
   "execution_count": 6,
   "metadata": {},
   "outputs": [],
   "source": [
    "# comparing the new smiles\n",
    "ready_df = smiles.copy()\n",
    "ready_df['SMILES_2'] = original_df['SMILES']\n",
    "ready_df['logkpl'] = original_df['logkpl']"
   ]
  },
  {
   "cell_type": "code",
   "execution_count": 8,
   "metadata": {},
   "outputs": [
    {
     "data": {
      "text/html": [
       "<div>\n",
       "<style scoped>\n",
       "    .dataframe tbody tr th:only-of-type {\n",
       "        vertical-align: middle;\n",
       "    }\n",
       "\n",
       "    .dataframe tbody tr th {\n",
       "        vertical-align: top;\n",
       "    }\n",
       "\n",
       "    .dataframe thead th {\n",
       "        text-align: right;\n",
       "    }\n",
       "</style>\n",
       "<table border=\"1\" class=\"dataframe\">\n",
       "  <thead>\n",
       "    <tr style=\"text-align: right;\">\n",
       "      <th></th>\n",
       "      <th>SMILES</th>\n",
       "      <th>Texpi</th>\n",
       "      <th>SMILES_2</th>\n",
       "      <th>logkpl</th>\n",
       "    </tr>\n",
       "  </thead>\n",
       "  <tbody>\n",
       "    <tr>\n",
       "      <th>31</th>\n",
       "      <td>C[N+](C)(C)C1=CC2=C(C=C1)C=CC(=C2N=NC3=CC=CC=C...</td>\n",
       "      <td>305</td>\n",
       "      <td>C[N+](C)(C)C1=CC2=C(C=C1)C=CC(=C2N=NC3=CC=CC=C...</td>\n",
       "      <td>-2.77</td>\n",
       "    </tr>\n",
       "    <tr>\n",
       "      <th>127</th>\n",
       "      <td>C1CNP(=O)(OC1)N(CCCl)CCCl</td>\n",
       "      <td>305</td>\n",
       "      <td>C1CNP(=O)(OC1)N(CCCl)CCCl.O</td>\n",
       "      <td>-2.54</td>\n",
       "    </tr>\n",
       "    <tr>\n",
       "      <th>128</th>\n",
       "      <td>C1CNP(=O)(OC1)N(CCCl)CCCl</td>\n",
       "      <td>305</td>\n",
       "      <td>C1CNP(=O)(OC1)N(CCCl)CCCl.O</td>\n",
       "      <td>-2.91</td>\n",
       "    </tr>\n",
       "    <tr>\n",
       "      <th>167</th>\n",
       "      <td>CC[N+](CC)(CC)CC</td>\n",
       "      <td>310</td>\n",
       "      <td>CC[N+](CC)(CC)CC.[Br-]</td>\n",
       "      <td>-3.37</td>\n",
       "    </tr>\n",
       "    <tr>\n",
       "      <th>168</th>\n",
       "      <td>CC[N+](CC)(CC)CC</td>\n",
       "      <td>298</td>\n",
       "      <td>CC[N+](CC)(CC)CC.[Br-]</td>\n",
       "      <td>-3.25</td>\n",
       "    </tr>\n",
       "    <tr>\n",
       "      <th>338</th>\n",
       "      <td>CCCCCCCCCC(=O)O</td>\n",
       "      <td>310</td>\n",
       "      <td>CCCCCCCCCC(=O)[O-].[Na+]</td>\n",
       "      <td>-2.95</td>\n",
       "    </tr>\n",
       "  </tbody>\n",
       "</table>\n",
       "</div>"
      ],
      "text/plain": [
       "                                                SMILES  Texpi  \\\n",
       "31   C[N+](C)(C)C1=CC2=C(C=C1)C=CC(=C2N=NC3=CC=CC=C...    305   \n",
       "127                          C1CNP(=O)(OC1)N(CCCl)CCCl    305   \n",
       "128                          C1CNP(=O)(OC1)N(CCCl)CCCl    305   \n",
       "167                                   CC[N+](CC)(CC)CC    310   \n",
       "168                                   CC[N+](CC)(CC)CC    298   \n",
       "338                                    CCCCCCCCCC(=O)O    310   \n",
       "\n",
       "                                              SMILES_2  logkpl  \n",
       "31   C[N+](C)(C)C1=CC2=C(C=C1)C=CC(=C2N=NC3=CC=CC=C...   -2.77  \n",
       "127                        C1CNP(=O)(OC1)N(CCCl)CCCl.O   -2.54  \n",
       "128                        C1CNP(=O)(OC1)N(CCCl)CCCl.O   -2.91  \n",
       "167                             CC[N+](CC)(CC)CC.[Br-]   -3.37  \n",
       "168                             CC[N+](CC)(CC)CC.[Br-]   -3.25  \n",
       "338                           CCCCCCCCCC(=O)[O-].[Na+]   -2.95  "
      ]
     },
     "execution_count": 8,
     "metadata": {},
     "output_type": "execute_result"
    }
   ],
   "source": [
    "ready_df.query(\"SMILES != SMILES_2\")"
   ]
  },
  {
   "cell_type": "code",
   "execution_count": 9,
   "metadata": {},
   "outputs": [],
   "source": [
    "gnn_df = smiles.copy()\n",
    "gnn_df['logkpl'] = original_df['logkpl']"
   ]
  },
  {
   "cell_type": "code",
   "execution_count": 10,
   "metadata": {},
   "outputs": [
    {
     "data": {
      "text/html": [
       "<div>\n",
       "<style scoped>\n",
       "    .dataframe tbody tr th:only-of-type {\n",
       "        vertical-align: middle;\n",
       "    }\n",
       "\n",
       "    .dataframe tbody tr th {\n",
       "        vertical-align: top;\n",
       "    }\n",
       "\n",
       "    .dataframe thead th {\n",
       "        text-align: right;\n",
       "    }\n",
       "</style>\n",
       "<table border=\"1\" class=\"dataframe\">\n",
       "  <thead>\n",
       "    <tr style=\"text-align: right;\">\n",
       "      <th></th>\n",
       "      <th>SMILES</th>\n",
       "      <th>Texpi</th>\n",
       "      <th>logkpl</th>\n",
       "    </tr>\n",
       "  </thead>\n",
       "  <tbody>\n",
       "    <tr>\n",
       "      <th>0</th>\n",
       "      <td>C(=O)(N)N</td>\n",
       "      <td>312</td>\n",
       "      <td>-3.55</td>\n",
       "    </tr>\n",
       "    <tr>\n",
       "      <th>1</th>\n",
       "      <td>C(=O)(N)N</td>\n",
       "      <td>300</td>\n",
       "      <td>-3.69</td>\n",
       "    </tr>\n",
       "    <tr>\n",
       "      <th>2</th>\n",
       "      <td>C(=O)(N)N</td>\n",
       "      <td>310</td>\n",
       "      <td>-3.83</td>\n",
       "    </tr>\n",
       "  </tbody>\n",
       "</table>\n",
       "</div>"
      ],
      "text/plain": [
       "      SMILES  Texpi  logkpl\n",
       "0  C(=O)(N)N    312   -3.55\n",
       "1  C(=O)(N)N    300   -3.69\n",
       "2  C(=O)(N)N    310   -3.83"
      ]
     },
     "execution_count": 10,
     "metadata": {},
     "output_type": "execute_result"
    }
   ],
   "source": [
    "gnn_df.head(3)"
   ]
  },
  {
   "cell_type": "code",
   "execution_count": 11,
   "metadata": {},
   "outputs": [
    {
     "data": {
      "text/plain": [
       "SMILES    0\n",
       "Texpi     0\n",
       "logkpl    0\n",
       "dtype: int64"
      ]
     },
     "execution_count": 11,
     "metadata": {},
     "output_type": "execute_result"
    }
   ],
   "source": [
    "gnn_df.isna().sum()"
   ]
  },
  {
   "cell_type": "code",
   "execution_count": 12,
   "metadata": {},
   "outputs": [],
   "source": [
    "# starting from index 445 - 476 (432 exlcuded) removing water compounds\n",
    "index_to_drop = [i for i in range(445, 476)]"
   ]
  },
  {
   "cell_type": "code",
   "execution_count": 21,
   "metadata": {},
   "outputs": [],
   "source": [
    "# remove the rows from our dataframes\n",
    "gnn_df = gnn_df.drop(index_to_drop, axis=0)\n",
    "gnn_df.reset_index(inplace=True, drop=True)"
   ]
  },
  {
   "cell_type": "code",
   "execution_count": 22,
   "metadata": {},
   "outputs": [
    {
     "data": {
      "text/html": [
       "<div>\n",
       "<style scoped>\n",
       "    .dataframe tbody tr th:only-of-type {\n",
       "        vertical-align: middle;\n",
       "    }\n",
       "\n",
       "    .dataframe tbody tr th {\n",
       "        vertical-align: top;\n",
       "    }\n",
       "\n",
       "    .dataframe thead th {\n",
       "        text-align: right;\n",
       "    }\n",
       "</style>\n",
       "<table border=\"1\" class=\"dataframe\">\n",
       "  <thead>\n",
       "    <tr style=\"text-align: right;\">\n",
       "      <th></th>\n",
       "      <th>SMILES</th>\n",
       "      <th>logkpl</th>\n",
       "    </tr>\n",
       "  </thead>\n",
       "  <tbody>\n",
       "    <tr>\n",
       "      <th>0</th>\n",
       "      <td>C(=O)(N)N</td>\n",
       "      <td>-3.730000</td>\n",
       "    </tr>\n",
       "    <tr>\n",
       "      <th>1</th>\n",
       "      <td>C(C(C(C(C(CO)O)O)O)O)O</td>\n",
       "      <td>-4.354615</td>\n",
       "    </tr>\n",
       "    <tr>\n",
       "      <th>2</th>\n",
       "      <td>C(C(CO)O)O</td>\n",
       "      <td>-3.790000</td>\n",
       "    </tr>\n",
       "    <tr>\n",
       "      <th>3</th>\n",
       "      <td>C(C1C(C(C(C(O1)OC2(C(C(C(O2)CO)O)O)CO)O)O)O)O</td>\n",
       "      <td>-4.512857</td>\n",
       "    </tr>\n",
       "    <tr>\n",
       "      <th>4</th>\n",
       "      <td>C(C1C(C(C(C(O1)OCC2C(C(C(C(O2)OC3(C(C(C(O3)CO)...</td>\n",
       "      <td>-4.575000</td>\n",
       "    </tr>\n",
       "    <tr>\n",
       "      <th>...</th>\n",
       "      <td>...</td>\n",
       "      <td>...</td>\n",
       "    </tr>\n",
       "    <tr>\n",
       "      <th>141</th>\n",
       "      <td>COC(=O)CC1=CC=C(C=C1)O</td>\n",
       "      <td>-1.700000</td>\n",
       "    </tr>\n",
       "    <tr>\n",
       "      <th>142</th>\n",
       "      <td>COC(C(C=O)O)C(C(CO)O)O</td>\n",
       "      <td>-3.680000</td>\n",
       "    </tr>\n",
       "    <tr>\n",
       "      <th>143</th>\n",
       "      <td>COC1=C(C=CC(=C1)CC=C)O</td>\n",
       "      <td>-1.575000</td>\n",
       "    </tr>\n",
       "    <tr>\n",
       "      <th>144</th>\n",
       "      <td>COS(=O)(=O)C</td>\n",
       "      <td>-1.990000</td>\n",
       "    </tr>\n",
       "    <tr>\n",
       "      <th>145</th>\n",
       "      <td>C[N+](C)(C)C1=CC2=C(C=C1)C=CC(=C2N=NC3=CC=CC=C...</td>\n",
       "      <td>-2.770000</td>\n",
       "    </tr>\n",
       "  </tbody>\n",
       "</table>\n",
       "<p>146 rows × 2 columns</p>\n",
       "</div>"
      ],
      "text/plain": [
       "                                                SMILES    logkpl\n",
       "0                                            C(=O)(N)N -3.730000\n",
       "1                               C(C(C(C(C(CO)O)O)O)O)O -4.354615\n",
       "2                                           C(C(CO)O)O -3.790000\n",
       "3        C(C1C(C(C(C(O1)OC2(C(C(C(O2)CO)O)O)CO)O)O)O)O -4.512857\n",
       "4    C(C1C(C(C(C(O1)OCC2C(C(C(C(O2)OC3(C(C(C(O3)CO)... -4.575000\n",
       "..                                                 ...       ...\n",
       "141                             COC(=O)CC1=CC=C(C=C1)O -1.700000\n",
       "142                             COC(C(C=O)O)C(C(CO)O)O -3.680000\n",
       "143                             COC1=C(C=CC(=C1)CC=C)O -1.575000\n",
       "144                                       COS(=O)(=O)C -1.990000\n",
       "145  C[N+](C)(C)C1=CC2=C(C=C1)C=CC(=C2N=NC3=CC=CC=C... -2.770000\n",
       "\n",
       "[146 rows x 2 columns]"
      ]
     },
     "execution_count": 22,
     "metadata": {},
     "output_type": "execute_result"
    }
   ],
   "source": [
    "# grouping by smiles \n",
    "smiles_grouped = gnn_df.groupby(['SMILES'], as_index=False).agg({'logkpl': \"mean\"})\n",
    "smiles_grouped"
   ]
  },
  {
   "cell_type": "code",
   "execution_count": 23,
   "metadata": {},
   "outputs": [
    {
     "data": {
      "text/html": [
       "<div>\n",
       "<style scoped>\n",
       "    .dataframe tbody tr th:only-of-type {\n",
       "        vertical-align: middle;\n",
       "    }\n",
       "\n",
       "    .dataframe tbody tr th {\n",
       "        vertical-align: top;\n",
       "    }\n",
       "\n",
       "    .dataframe thead th {\n",
       "        text-align: right;\n",
       "    }\n",
       "</style>\n",
       "<table border=\"1\" class=\"dataframe\">\n",
       "  <thead>\n",
       "    <tr style=\"text-align: right;\">\n",
       "      <th></th>\n",
       "      <th>SMILES</th>\n",
       "      <th>Texpi</th>\n",
       "      <th>logkpl</th>\n",
       "    </tr>\n",
       "  </thead>\n",
       "  <tbody>\n",
       "    <tr>\n",
       "      <th>0</th>\n",
       "      <td>C(=O)(N)N</td>\n",
       "      <td>300</td>\n",
       "      <td>-3.690</td>\n",
       "    </tr>\n",
       "    <tr>\n",
       "      <th>1</th>\n",
       "      <td>C(=O)(N)N</td>\n",
       "      <td>310</td>\n",
       "      <td>-3.774</td>\n",
       "    </tr>\n",
       "    <tr>\n",
       "      <th>2</th>\n",
       "      <td>C(=O)(N)N</td>\n",
       "      <td>312</td>\n",
       "      <td>-3.550</td>\n",
       "    </tr>\n",
       "    <tr>\n",
       "      <th>3</th>\n",
       "      <td>C(C(C(C(C(CO)O)O)O)O)O</td>\n",
       "      <td>298</td>\n",
       "      <td>-3.970</td>\n",
       "    </tr>\n",
       "    <tr>\n",
       "      <th>4</th>\n",
       "      <td>C(C(C(C(C(CO)O)O)O)O)O</td>\n",
       "      <td>300</td>\n",
       "      <td>-4.190</td>\n",
       "    </tr>\n",
       "    <tr>\n",
       "      <th>...</th>\n",
       "      <td>...</td>\n",
       "      <td>...</td>\n",
       "      <td>...</td>\n",
       "    </tr>\n",
       "    <tr>\n",
       "      <th>217</th>\n",
       "      <td>COC(=O)CC1=CC=C(C=C1)O</td>\n",
       "      <td>310</td>\n",
       "      <td>-1.700</td>\n",
       "    </tr>\n",
       "    <tr>\n",
       "      <th>218</th>\n",
       "      <td>COC(C(C=O)O)C(C(CO)O)O</td>\n",
       "      <td>310</td>\n",
       "      <td>-3.680</td>\n",
       "    </tr>\n",
       "    <tr>\n",
       "      <th>219</th>\n",
       "      <td>COC1=C(C=CC(=C1)CC=C)O</td>\n",
       "      <td>305</td>\n",
       "      <td>-1.575</td>\n",
       "    </tr>\n",
       "    <tr>\n",
       "      <th>220</th>\n",
       "      <td>COS(=O)(=O)C</td>\n",
       "      <td>305</td>\n",
       "      <td>-1.990</td>\n",
       "    </tr>\n",
       "    <tr>\n",
       "      <th>221</th>\n",
       "      <td>C[N+](C)(C)C1=CC2=C(C=C1)C=CC(=C2N=NC3=CC=CC=C...</td>\n",
       "      <td>305</td>\n",
       "      <td>-2.770</td>\n",
       "    </tr>\n",
       "  </tbody>\n",
       "</table>\n",
       "<p>222 rows × 3 columns</p>\n",
       "</div>"
      ],
      "text/plain": [
       "                                                SMILES  Texpi  logkpl\n",
       "0                                            C(=O)(N)N    300  -3.690\n",
       "1                                            C(=O)(N)N    310  -3.774\n",
       "2                                            C(=O)(N)N    312  -3.550\n",
       "3                               C(C(C(C(C(CO)O)O)O)O)O    298  -3.970\n",
       "4                               C(C(C(C(C(CO)O)O)O)O)O    300  -4.190\n",
       "..                                                 ...    ...     ...\n",
       "217                             COC(=O)CC1=CC=C(C=C1)O    310  -1.700\n",
       "218                             COC(C(C=O)O)C(C(CO)O)O    310  -3.680\n",
       "219                             COC1=C(C=CC(=C1)CC=C)O    305  -1.575\n",
       "220                                       COS(=O)(=O)C    305  -1.990\n",
       "221  C[N+](C)(C)C1=CC2=C(C=C1)C=CC(=C2N=NC3=CC=CC=C...    305  -2.770\n",
       "\n",
       "[222 rows x 3 columns]"
      ]
     },
     "execution_count": 23,
     "metadata": {},
     "output_type": "execute_result"
    }
   ],
   "source": [
    "# grouping by smiles then by temperature\n",
    "smiles_texpi_grouped = gnn_df.groupby(['SMILES', \"Texpi\"], as_index=False).agg({'logkpl': \"mean\"})\n",
    "smiles_texpi_grouped"
   ]
  },
  {
   "cell_type": "code",
   "execution_count": 24,
   "metadata": {},
   "outputs": [
    {
     "data": {
      "text/plain": [
       "(SMILES    0\n",
       " logkpl    0\n",
       " dtype: int64,\n",
       " SMILES    0\n",
       " Texpi     0\n",
       " dtype: int64)"
      ]
     },
     "execution_count": 24,
     "metadata": {},
     "output_type": "execute_result"
    }
   ],
   "source": [
    "smiles_grouped.isna().sum(), smiles.isna().sum()"
   ]
  },
  {
   "cell_type": "code",
   "execution_count": 25,
   "metadata": {},
   "outputs": [],
   "source": [
    "# saving the two files\n",
    "smiles_grouped.to_csv('../../data/final/gnn_smiles_kpl.csv', index=False)\n",
    "smiles_texpi_grouped.to_csv('../../data/final/gnn_smiles_texpi_kpl.csv', index=False)"
   ]
  }
 ],
 "metadata": {
  "kernelspec": {
   "display_name": "ds",
   "language": "python",
   "name": "python3"
  },
  "language_info": {
   "codemirror_mode": {
    "name": "ipython",
    "version": 3
   },
   "file_extension": ".py",
   "mimetype": "text/x-python",
   "name": "python",
   "nbconvert_exporter": "python",
   "pygments_lexer": "ipython3",
   "version": "3.10.9"
  },
  "orig_nbformat": 4,
  "vscode": {
   "interpreter": {
    "hash": "20dc5ffa7283070ee904113ac137ec063d55d491ad60d3ae86495ae673f57bef"
   }
  }
 },
 "nbformat": 4,
 "nbformat_minor": 2
}
