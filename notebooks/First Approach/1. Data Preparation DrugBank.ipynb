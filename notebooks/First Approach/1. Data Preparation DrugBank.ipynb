{
 "cells": [
  {
   "cell_type": "code",
   "execution_count": 2,
   "metadata": {},
   "outputs": [],
   "source": [
    "import pandas as pd\n",
    "import numpy as np\n",
    "import matplotlib.pyplot as plt\n",
    "import seaborn as sns"
   ]
  },
  {
   "cell_type": "code",
   "execution_count": 3,
   "metadata": {},
   "outputs": [],
   "source": [
    "data = pd.read_csv(\"../data/raw/DrugBank-descriptors.csv\")"
   ]
  },
  {
   "cell_type": "code",
   "execution_count": 37,
   "metadata": {},
   "outputs": [
    {
     "data": {
      "text/plain": [
       "(2326, 225)"
      ]
     },
     "execution_count": 37,
     "metadata": {},
     "output_type": "execute_result"
    }
   ],
   "source": [
    "data.shape"
   ]
  },
  {
   "cell_type": "code",
   "execution_count": 11,
   "metadata": {},
   "outputs": [
    {
     "data": {
      "text/plain": [
       "5031"
      ]
     },
     "execution_count": 11,
     "metadata": {},
     "output_type": "execute_result"
    }
   ],
   "source": [
    "data.isna().sum().sum()"
   ]
  },
  {
   "cell_type": "code",
   "execution_count": 5,
   "metadata": {},
   "outputs": [
    {
     "name": "stdout",
     "output_type": "stream",
     "text": [
      "ATSc1 29\n",
      "ATSc2 29\n",
      "ATSc3 29\n",
      "ATSc4 29\n",
      "ATSc5 29\n",
      "BCUTw-1l 33\n",
      "BCUTw-1h 33\n",
      "BCUTc-1l 33\n",
      "BCUTc-1h 33\n",
      "BCUTp-1l 33\n",
      "BCUTp-1h 33\n",
      "bpol 2\n",
      "nBase 2\n",
      "nB 2\n",
      "C1SP1 2\n",
      "C2SP1 2\n",
      "C1SP2 2\n",
      "C2SP2 2\n",
      "C3SP2 2\n",
      "C1SP3 2\n",
      "C2SP3 2\n",
      "C3SP3 2\n",
      "C4SP3 2\n",
      "SCH-3 9\n",
      "SCH-4 9\n",
      "SCH-5 9\n",
      "SCH-6 9\n",
      "SCH-7 9\n",
      "VCH-3 9\n",
      "VCH-4 9\n",
      "VCH-5 9\n",
      "VCH-6 9\n",
      "VCH-7 9\n",
      "SC-3 11\n",
      "SC-4 11\n",
      "SC-5 11\n",
      "SC-6 11\n",
      "VC-3 11\n",
      "VC-4 11\n",
      "VC-5 11\n",
      "VC-6 11\n",
      "SPC-4 13\n",
      "SPC-5 13\n",
      "SPC-6 13\n",
      "VPC-4 13\n",
      "VPC-5 13\n",
      "VPC-6 13\n",
      "SP-0 13\n",
      "SP-1 13\n",
      "SP-2 13\n",
      "SP-3 13\n",
      "SP-4 13\n",
      "SP-5 13\n",
      "SP-6 13\n",
      "SP-7 13\n",
      "VP-0 13\n",
      "VP-1 13\n",
      "VP-2 13\n",
      "VP-3 13\n",
      "VP-4 13\n",
      "VP-5 13\n",
      "VP-6 13\n",
      "VP-7 13\n",
      "ECCEN 13\n",
      "FMF 13\n",
      "Fsp3 13\n",
      "fragC 13\n",
      "nHBAcc 13\n",
      "nHBDon 13\n",
      "HybRatio 16\n",
      "JPLogP 24\n",
      "Kier1 13\n",
      "Kier2 13\n",
      "Kier3 31\n",
      "khs.sLi 13\n",
      "khs.ssBe 13\n",
      "khs.ssssBe 13\n",
      "khs.ssBH 13\n",
      "khs.sssB 13\n",
      "khs.ssssB 13\n",
      "khs.sCH3 13\n",
      "khs.dCH2 13\n",
      "khs.ssCH2 13\n",
      "khs.tCH 13\n",
      "khs.dsCH 13\n",
      "khs.aaCH 13\n",
      "khs.sssCH 13\n",
      "khs.ddC 13\n",
      "khs.tsC 13\n",
      "khs.dssC 13\n",
      "khs.aasC 13\n",
      "khs.aaaC 13\n",
      "khs.ssssC 13\n",
      "khs.sNH3 13\n",
      "khs.sNH2 13\n",
      "khs.ssNH2 13\n",
      "khs.dNH 13\n",
      "khs.ssNH 13\n",
      "khs.aaNH 13\n",
      "khs.tN 13\n",
      "khs.sssNH 13\n",
      "khs.dsN 13\n",
      "khs.aaN 13\n",
      "khs.sssN 13\n",
      "khs.ddsN 13\n",
      "khs.aasN 13\n",
      "khs.ssssN 13\n",
      "khs.sOH 13\n",
      "khs.dO 13\n",
      "khs.ssO 13\n",
      "khs.aaO 13\n",
      "khs.sF 13\n",
      "khs.sSiH3 13\n",
      "khs.ssSiH2 13\n",
      "khs.sssSiH 13\n",
      "khs.ssssSi 13\n",
      "khs.sPH2 13\n",
      "khs.ssPH 13\n",
      "khs.sssP 13\n",
      "khs.dsssP 13\n",
      "khs.sssssP 13\n",
      "khs.sSH 13\n",
      "khs.dS 13\n",
      "khs.ssS 13\n",
      "khs.aaS 13\n",
      "khs.dssS 13\n",
      "khs.ddssS 13\n",
      "khs.sCl 13\n",
      "khs.sGeH3 13\n",
      "khs.ssGeH2 13\n",
      "khs.sssGeH 13\n",
      "khs.ssssGe 13\n",
      "khs.sAsH2 13\n",
      "khs.ssAsH 13\n",
      "khs.sssAs 13\n",
      "khs.sssdAs 13\n",
      "khs.sssssAs 13\n",
      "khs.sSeH 13\n",
      "khs.dSe 13\n",
      "khs.ssSe 13\n",
      "khs.aaSe 13\n",
      "khs.dssSe 13\n",
      "khs.ddssSe 13\n",
      "khs.sBr 13\n",
      "khs.sSnH3 13\n",
      "khs.ssSnH2 13\n",
      "khs.sssSnH 13\n",
      "khs.ssssSn 13\n",
      "khs.sI 13\n",
      "khs.sPbH3 13\n",
      "khs.ssPbH2 13\n",
      "khs.sssPbH 13\n",
      "khs.ssssPb 13\n",
      "nAtomLC 13\n",
      "nAtomP 13\n",
      "nAtomLAC 13\n",
      "MDEC-11 13\n",
      "MDEC-12 13\n",
      "MDEC-13 13\n",
      "MDEC-14 13\n",
      "MDEC-22 13\n",
      "MDEC-23 13\n",
      "MDEC-24 13\n",
      "MDEC-33 13\n",
      "MDEC-34 13\n",
      "MDEC-44 13\n",
      "MDEO-11 13\n",
      "MDEO-12 13\n",
      "MDEO-22 13\n",
      "MDEN-11 13\n",
      "MDEN-12 13\n",
      "MDEN-13 13\n",
      "MDEN-22 13\n",
      "MDEN-23 13\n",
      "MDEN-33 13\n",
      "MLogP 13\n",
      "PetitjeanNumber 13\n",
      "topoShape 13\n",
      "geomShape 2326\n",
      "nRotB 13\n",
      "LipinskiFailures 13\n",
      "nSmallRings 13\n",
      "nAromRings 13\n",
      "nRingBlocks 13\n",
      "nAromBlocks 13\n",
      "nRings3 13\n",
      "nRings4 13\n",
      "nRings5 13\n",
      "nRings6 13\n",
      "nRings7 13\n",
      "nRings8 13\n",
      "nRings9 13\n",
      "TopoPSA 13\n",
      "VABC 22\n",
      "VAdjMat 13\n",
      "MW 13\n",
      "WTPT-1 13\n",
      "WTPT-2 13\n",
      "WTPT-3 13\n",
      "WTPT-4 13\n",
      "WTPT-5 13\n",
      "WPATH 13\n",
      "WPOL 13\n",
      "XLogP 13\n",
      "Zagreb 13\n"
     ]
    }
   ],
   "source": [
    "for col in data.columns:\n",
    "    if data[col].isna().sum() > 0:\n",
    "        print(col, data[col].isna().sum() )"
   ]
  },
  {
   "cell_type": "code",
   "execution_count": 8,
   "metadata": {},
   "outputs": [],
   "source": [
    "temp_index = data[data['ATSc1'].isna()].index"
   ]
  },
  {
   "cell_type": "code",
   "execution_count": 14,
   "metadata": {},
   "outputs": [],
   "source": [
    "df_clean = data.copy()"
   ]
  },
  {
   "cell_type": "code",
   "execution_count": 15,
   "metadata": {},
   "outputs": [
    {
     "data": {
      "text/plain": [
       "2301"
      ]
     },
     "execution_count": 15,
     "metadata": {},
     "output_type": "execute_result"
    }
   ],
   "source": [
    "data.iloc[temp_index].isna().sum().sum()"
   ]
  },
  {
   "cell_type": "code",
   "execution_count": 16,
   "metadata": {},
   "outputs": [],
   "source": [
    "df_clean.drop(temp_index, axis=0, inplace=True)"
   ]
  },
  {
   "cell_type": "code",
   "execution_count": 17,
   "metadata": {},
   "outputs": [
    {
     "data": {
      "text/plain": [
       "2730"
      ]
     },
     "execution_count": 17,
     "metadata": {},
     "output_type": "execute_result"
    }
   ],
   "source": [
    "df_clean.isna().sum().sum()"
   ]
  },
  {
   "cell_type": "code",
   "execution_count": 18,
   "metadata": {},
   "outputs": [
    {
     "name": "stdout",
     "output_type": "stream",
     "text": [
      "BCUTw-1l 4\n",
      "BCUTw-1h 4\n",
      "BCUTc-1l 4\n",
      "BCUTc-1h 4\n",
      "BCUTp-1l 4\n",
      "BCUTp-1h 4\n",
      "bpol 2\n",
      "nBase 2\n",
      "nB 2\n",
      "C1SP1 2\n",
      "C2SP1 2\n",
      "C1SP2 2\n",
      "C2SP2 2\n",
      "C3SP2 2\n",
      "C1SP3 2\n",
      "C2SP3 2\n",
      "C3SP3 2\n",
      "C4SP3 2\n",
      "SCH-3 2\n",
      "SCH-4 2\n",
      "SCH-5 2\n",
      "SCH-6 2\n",
      "SCH-7 2\n",
      "VCH-3 2\n",
      "VCH-4 2\n",
      "VCH-5 2\n",
      "VCH-6 2\n",
      "VCH-7 2\n",
      "SC-3 2\n",
      "SC-4 2\n",
      "SC-5 2\n",
      "SC-6 2\n",
      "VC-3 2\n",
      "VC-4 2\n",
      "VC-5 2\n",
      "VC-6 2\n",
      "SPC-4 2\n",
      "SPC-5 2\n",
      "SPC-6 2\n",
      "VPC-4 2\n",
      "VPC-5 2\n",
      "VPC-6 2\n",
      "SP-0 2\n",
      "SP-1 2\n",
      "SP-2 2\n",
      "SP-3 2\n",
      "SP-4 2\n",
      "SP-5 2\n",
      "SP-6 2\n",
      "SP-7 2\n",
      "VP-0 2\n",
      "VP-1 2\n",
      "VP-2 2\n",
      "VP-3 2\n",
      "VP-4 2\n",
      "VP-5 2\n",
      "VP-6 2\n",
      "VP-7 2\n",
      "ECCEN 2\n",
      "FMF 2\n",
      "Fsp3 2\n",
      "fragC 2\n",
      "nHBAcc 2\n",
      "nHBDon 2\n",
      "HybRatio 5\n",
      "JPLogP 4\n",
      "Kier1 2\n",
      "Kier2 2\n",
      "Kier3 20\n",
      "khs.sLi 2\n",
      "khs.ssBe 2\n",
      "khs.ssssBe 2\n",
      "khs.ssBH 2\n",
      "khs.sssB 2\n",
      "khs.ssssB 2\n",
      "khs.sCH3 2\n",
      "khs.dCH2 2\n",
      "khs.ssCH2 2\n",
      "khs.tCH 2\n",
      "khs.dsCH 2\n",
      "khs.aaCH 2\n",
      "khs.sssCH 2\n",
      "khs.ddC 2\n",
      "khs.tsC 2\n",
      "khs.dssC 2\n",
      "khs.aasC 2\n",
      "khs.aaaC 2\n",
      "khs.ssssC 2\n",
      "khs.sNH3 2\n",
      "khs.sNH2 2\n",
      "khs.ssNH2 2\n",
      "khs.dNH 2\n",
      "khs.ssNH 2\n",
      "khs.aaNH 2\n",
      "khs.tN 2\n",
      "khs.sssNH 2\n",
      "khs.dsN 2\n",
      "khs.aaN 2\n",
      "khs.sssN 2\n",
      "khs.ddsN 2\n",
      "khs.aasN 2\n",
      "khs.ssssN 2\n",
      "khs.sOH 2\n",
      "khs.dO 2\n",
      "khs.ssO 2\n",
      "khs.aaO 2\n",
      "khs.sF 2\n",
      "khs.sSiH3 2\n",
      "khs.ssSiH2 2\n",
      "khs.sssSiH 2\n",
      "khs.ssssSi 2\n",
      "khs.sPH2 2\n",
      "khs.ssPH 2\n",
      "khs.sssP 2\n",
      "khs.dsssP 2\n",
      "khs.sssssP 2\n",
      "khs.sSH 2\n",
      "khs.dS 2\n",
      "khs.ssS 2\n",
      "khs.aaS 2\n",
      "khs.dssS 2\n",
      "khs.ddssS 2\n",
      "khs.sCl 2\n",
      "khs.sGeH3 2\n",
      "khs.ssGeH2 2\n",
      "khs.sssGeH 2\n",
      "khs.ssssGe 2\n",
      "khs.sAsH2 2\n",
      "khs.ssAsH 2\n",
      "khs.sssAs 2\n",
      "khs.sssdAs 2\n",
      "khs.sssssAs 2\n",
      "khs.sSeH 2\n",
      "khs.dSe 2\n",
      "khs.ssSe 2\n",
      "khs.aaSe 2\n",
      "khs.dssSe 2\n",
      "khs.ddssSe 2\n",
      "khs.sBr 2\n",
      "khs.sSnH3 2\n",
      "khs.ssSnH2 2\n",
      "khs.sssSnH 2\n",
      "khs.ssssSn 2\n",
      "khs.sI 2\n",
      "khs.sPbH3 2\n",
      "khs.ssPbH2 2\n",
      "khs.sssPbH 2\n",
      "khs.ssssPb 2\n",
      "nAtomLC 2\n",
      "nAtomP 2\n",
      "nAtomLAC 2\n",
      "MDEC-11 2\n",
      "MDEC-12 2\n",
      "MDEC-13 2\n",
      "MDEC-14 2\n",
      "MDEC-22 2\n",
      "MDEC-23 2\n",
      "MDEC-24 2\n",
      "MDEC-33 2\n",
      "MDEC-34 2\n",
      "MDEC-44 2\n",
      "MDEO-11 2\n",
      "MDEO-12 2\n",
      "MDEO-22 2\n",
      "MDEN-11 2\n",
      "MDEN-12 2\n",
      "MDEN-13 2\n",
      "MDEN-22 2\n",
      "MDEN-23 2\n",
      "MDEN-33 2\n",
      "MLogP 2\n",
      "PetitjeanNumber 2\n",
      "topoShape 2\n",
      "geomShape 2297\n",
      "nRotB 2\n",
      "LipinskiFailures 2\n",
      "nSmallRings 2\n",
      "nAromRings 2\n",
      "nRingBlocks 2\n",
      "nAromBlocks 2\n",
      "nRings3 2\n",
      "nRings4 2\n",
      "nRings5 2\n",
      "nRings6 2\n",
      "nRings7 2\n",
      "nRings8 2\n",
      "nRings9 2\n",
      "TopoPSA 2\n",
      "VABC 2\n",
      "VAdjMat 2\n",
      "MW 2\n",
      "WTPT-1 2\n",
      "WTPT-2 2\n",
      "WTPT-3 2\n",
      "WTPT-4 2\n",
      "WTPT-5 2\n",
      "WPATH 2\n",
      "WPOL 2\n",
      "XLogP 2\n",
      "Zagreb 2\n"
     ]
    }
   ],
   "source": [
    "for col in df_clean.columns:\n",
    "    if df_clean[col].isna().sum() > 0:\n",
    "        print(col, df_clean[col].isna().sum() )"
   ]
  },
  {
   "cell_type": "code",
   "execution_count": 19,
   "metadata": {},
   "outputs": [],
   "source": [
    "temp_index2 = df_clean[df_clean['BCUTw-1l'].isna()].index"
   ]
  },
  {
   "cell_type": "code",
   "execution_count": 21,
   "metadata": {},
   "outputs": [],
   "source": [
    "df_clean.drop(temp_index2, axis=0, inplace=True)"
   ]
  },
  {
   "cell_type": "code",
   "execution_count": 22,
   "metadata": {},
   "outputs": [
    {
     "data": {
      "text/plain": [
       "2316"
      ]
     },
     "execution_count": 22,
     "metadata": {},
     "output_type": "execute_result"
    }
   ],
   "source": [
    "df_clean.isna().sum().sum()"
   ]
  },
  {
   "cell_type": "code",
   "execution_count": 23,
   "metadata": {},
   "outputs": [
    {
     "name": "stdout",
     "output_type": "stream",
     "text": [
      "HybRatio 3\n",
      "JPLogP 2\n",
      "Kier3 18\n",
      "geomShape 2293\n"
     ]
    }
   ],
   "source": [
    "for col in df_clean.columns:\n",
    "    if df_clean[col].isna().sum() > 0:\n",
    "        print(col, df_clean[col].isna().sum() )"
   ]
  },
  {
   "cell_type": "code",
   "execution_count": 24,
   "metadata": {},
   "outputs": [],
   "source": [
    "df_clean.drop(['geomShape'], axis=1, inplace=True)"
   ]
  },
  {
   "cell_type": "code",
   "execution_count": 26,
   "metadata": {},
   "outputs": [
    {
     "data": {
      "text/plain": [
       "count    2275.000000\n",
       "mean        6.188812\n",
       "std         6.689533\n",
       "min         0.000000\n",
       "25%         3.265306\n",
       "50%         4.614645\n",
       "75%         6.667834\n",
       "max       122.016070\n",
       "Name: Kier3, dtype: float64"
      ]
     },
     "execution_count": 26,
     "metadata": {},
     "output_type": "execute_result"
    }
   ],
   "source": [
    "df_clean['Kier3'].describe()"
   ]
  },
  {
   "cell_type": "code",
   "execution_count": 33,
   "metadata": {},
   "outputs": [
    {
     "data": {
      "text/plain": [
       "<AxesSubplot: >"
      ]
     },
     "execution_count": 33,
     "metadata": {},
     "output_type": "execute_result"
    },
    {
     "data": {
      "image/png": "[encoded data removed]",
      "text/plain": [
       "<Figure size 640x480 with 1 Axes>"
      ]
     },
     "metadata": {},
     "output_type": "display_data"
    }
   ],
   "source": [
    "df_clean['Kier3'].hist()"
   ]
  },
  {
   "cell_type": "code",
   "execution_count": 27,
   "metadata": {},
   "outputs": [
    {
     "name": "stdout",
     "output_type": "stream",
     "text": [
      "HybRatio 3\n",
      "JPLogP 2\n",
      "Kier3 18\n"
     ]
    }
   ],
   "source": [
    "for col in df_clean.columns:\n",
    "    if df_clean[col].isna().sum() > 0:\n",
    "        print(col, df_clean[col].isna().sum() )"
   ]
  },
  {
   "cell_type": "code",
   "execution_count": 32,
   "metadata": {},
   "outputs": [
    {
     "data": {
      "image/png": "[encoded data removed]",
      "text/plain": [
       "<Figure size 640x480 with 1 Axes>"
      ]
     },
     "metadata": {},
     "output_type": "display_data"
    }
   ],
   "source": [
    "df_clean['JPLogP'].hist();"
   ]
  },
  {
   "cell_type": "code",
   "execution_count": 42,
   "metadata": {},
   "outputs": [],
   "source": [
    "# filling JPLogP and HybRatio with mean\n",
    "df_clean['JPLogP'] = df_clean['JPLogP'].fillna(df_clean['JPLogP'].mean())\n",
    "df_clean['HybRatio'] = df_clean['HybRatio'].fillna(df_clean['HybRatio'].mean())\n",
    "\n",
    "# Kier3 with 0\n",
    "df_clean['Kier3'] = df_clean['Kier3'].fillna(df_clean['Kier3'].mean())"
   ]
  },
  {
   "cell_type": "code",
   "execution_count": 43,
   "metadata": {},
   "outputs": [],
   "source": [
    "for col in df_clean.columns:\n",
    "    if df_clean[col].isna().sum() > 0:\n",
    "        print(col, df_clean[col].isna().sum() )"
   ]
  },
  {
   "cell_type": "code",
   "execution_count": 44,
   "metadata": {},
   "outputs": [
    {
     "data": {
      "text/plain": [
       "(2293, 224)"
      ]
     },
     "execution_count": 44,
     "metadata": {},
     "output_type": "execute_result"
    }
   ],
   "source": [
    "df_clean.shape"
   ]
  },
  {
   "cell_type": "code",
   "execution_count": 45,
   "metadata": {},
   "outputs": [
    {
     "data": {
      "text/plain": [
       "0"
      ]
     },
     "execution_count": 45,
     "metadata": {},
     "output_type": "execute_result"
    }
   ],
   "source": [
    "df_clean.duplicated().sum()"
   ]
  },
  {
   "cell_type": "code",
   "execution_count": 46,
   "metadata": {},
   "outputs": [
    {
     "data": {
      "text/plain": [
       "0"
      ]
     },
     "execution_count": 46,
     "metadata": {},
     "output_type": "execute_result"
    }
   ],
   "source": [
    "df_clean['Name'].duplicated().sum()"
   ]
  },
  {
   "cell_type": "code",
   "execution_count": 47,
   "metadata": {},
   "outputs": [],
   "source": [
    "df_clean.to_csv(\"../data/processed/drug_bank_clean.csv\", index=False)"
   ]
  }
 ],
 "metadata": {
  "kernelspec": {
   "display_name": "ds",
   "language": "python",
   "name": "python3"
  },
  "language_info": {
   "codemirror_mode": {
    "name": "ipython",
    "version": 3
   },
   "file_extension": ".py",
   "mimetype": "text/x-python",
   "name": "python",
   "nbconvert_exporter": "python",
   "pygments_lexer": "ipython3",
   "version": "3.10.9"
  },
  "orig_nbformat": 4
 },
 "nbformat": 4,
 "nbformat_minor": 2
}
